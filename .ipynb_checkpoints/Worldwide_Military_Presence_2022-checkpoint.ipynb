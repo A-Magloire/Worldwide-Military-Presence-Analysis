{
 "cells": [
  {
   "cell_type": "code",
   "execution_count": 91,
   "id": "154b72c5",
   "metadata": {},
   "outputs": [],
   "source": [
    "import pandas as pd\n",
    "import seaborn as sns\n",
    "import matplotlib.pyplot as plt"
   ]
  },
  {
   "cell_type": "code",
   "execution_count": 92,
   "id": "f936d170",
   "metadata": {},
   "outputs": [],
   "source": [
    "df = pd.read_csv(\"army-total-world.csv\")"
   ]
  },
  {
   "cell_type": "markdown",
   "id": "403ffa55",
   "metadata": {},
   "source": [
    "### Basic Data Exploration"
   ]
  },
  {
   "cell_type": "code",
   "execution_count": 93,
   "id": "f8a663da",
   "metadata": {},
   "outputs": [
    {
     "data": {
      "text/html": [
       "<div>\n",
       "<style scoped>\n",
       "    .dataframe tbody tr th:only-of-type {\n",
       "        vertical-align: middle;\n",
       "    }\n",
       "\n",
       "    .dataframe tbody tr th {\n",
       "        vertical-align: top;\n",
       "    }\n",
       "\n",
       "    .dataframe thead th {\n",
       "        text-align: right;\n",
       "    }\n",
       "</style>\n",
       "<table border=\"1\" class=\"dataframe\">\n",
       "  <thead>\n",
       "    <tr style=\"text-align: right;\">\n",
       "      <th></th>\n",
       "      <th>country</th>\n",
       "      <th>activeDuty</th>\n",
       "      <th>paramilitary</th>\n",
       "      <th>reserves</th>\n",
       "      <th>total</th>\n",
       "      <th>pop2022</th>\n",
       "    </tr>\n",
       "  </thead>\n",
       "  <tbody>\n",
       "    <tr>\n",
       "      <th>0</th>\n",
       "      <td>China</td>\n",
       "      <td>2185000</td>\n",
       "      <td>660000</td>\n",
       "      <td>1170000</td>\n",
       "      <td>4015000</td>\n",
       "      <td>1448471.400</td>\n",
       "    </tr>\n",
       "    <tr>\n",
       "      <th>1</th>\n",
       "      <td>India</td>\n",
       "      <td>1455550</td>\n",
       "      <td>2526950</td>\n",
       "      <td>1155000</td>\n",
       "      <td>5137500</td>\n",
       "      <td>1406631.776</td>\n",
       "    </tr>\n",
       "    <tr>\n",
       "      <th>2</th>\n",
       "      <td>United States</td>\n",
       "      <td>1388100</td>\n",
       "      <td>0</td>\n",
       "      <td>844950</td>\n",
       "      <td>2233050</td>\n",
       "      <td>334805.269</td>\n",
       "    </tr>\n",
       "    <tr>\n",
       "      <th>3</th>\n",
       "      <td>North Korea</td>\n",
       "      <td>1280000</td>\n",
       "      <td>5889000</td>\n",
       "      <td>600000</td>\n",
       "      <td>7769000</td>\n",
       "      <td>25990.679</td>\n",
       "    </tr>\n",
       "    <tr>\n",
       "      <th>4</th>\n",
       "      <td>Russia</td>\n",
       "      <td>1014000</td>\n",
       "      <td>554000</td>\n",
       "      <td>2000000</td>\n",
       "      <td>3568000</td>\n",
       "      <td>145805.947</td>\n",
       "    </tr>\n",
       "  </tbody>\n",
       "</table>\n",
       "</div>"
      ],
      "text/plain": [
       "         country  activeDuty  paramilitary  reserves    total      pop2022\n",
       "0          China     2185000        660000   1170000  4015000  1448471.400\n",
       "1          India     1455550       2526950   1155000  5137500  1406631.776\n",
       "2  United States     1388100             0    844950  2233050   334805.269\n",
       "3    North Korea     1280000       5889000    600000  7769000    25990.679\n",
       "4         Russia     1014000        554000   2000000  3568000   145805.947"
      ]
     },
     "execution_count": 93,
     "metadata": {},
     "output_type": "execute_result"
    }
   ],
   "source": [
    "df.head()"
   ]
  },
  {
   "cell_type": "code",
   "execution_count": 94,
   "id": "304d14af",
   "metadata": {},
   "outputs": [],
   "source": [
    "df.set_index('country', inplace=True)"
   ]
  },
  {
   "cell_type": "code",
   "execution_count": 95,
   "id": "2361d64a",
   "metadata": {},
   "outputs": [
    {
     "data": {
      "text/plain": [
       "activeDuty        int64\n",
       "paramilitary      int64\n",
       "reserves          int64\n",
       "total             int64\n",
       "pop2022         float64\n",
       "dtype: object"
      ]
     },
     "execution_count": 95,
     "metadata": {},
     "output_type": "execute_result"
    }
   ],
   "source": [
    "df.dtypes"
   ]
  },
  {
   "cell_type": "code",
   "execution_count": 96,
   "id": "af81937f",
   "metadata": {},
   "outputs": [
    {
     "data": {
      "text/html": [
       "<div>\n",
       "<style scoped>\n",
       "    .dataframe tbody tr th:only-of-type {\n",
       "        vertical-align: middle;\n",
       "    }\n",
       "\n",
       "    .dataframe tbody tr th {\n",
       "        vertical-align: top;\n",
       "    }\n",
       "\n",
       "    .dataframe thead th {\n",
       "        text-align: right;\n",
       "    }\n",
       "</style>\n",
       "<table border=\"1\" class=\"dataframe\">\n",
       "  <thead>\n",
       "    <tr style=\"text-align: right;\">\n",
       "      <th></th>\n",
       "      <th>activeDuty</th>\n",
       "      <th>paramilitary</th>\n",
       "      <th>reserves</th>\n",
       "      <th>total</th>\n",
       "      <th>pop2022</th>\n",
       "    </tr>\n",
       "  </thead>\n",
       "  <tbody>\n",
       "    <tr>\n",
       "      <th>count</th>\n",
       "      <td>1.680000e+02</td>\n",
       "      <td>1.680000e+02</td>\n",
       "      <td>1.680000e+02</td>\n",
       "      <td>1.680000e+02</td>\n",
       "      <td>1.680000e+02</td>\n",
       "    </tr>\n",
       "    <tr>\n",
       "      <th>mean</th>\n",
       "      <td>1.199320e+05</td>\n",
       "      <td>1.437658e+05</td>\n",
       "      <td>1.494214e+05</td>\n",
       "      <td>4.131192e+05</td>\n",
       "      <td>4.713149e+04</td>\n",
       "    </tr>\n",
       "    <tr>\n",
       "      <th>std</th>\n",
       "      <td>2.733041e+05</td>\n",
       "      <td>6.704519e+05</td>\n",
       "      <td>5.244440e+05</td>\n",
       "      <td>1.272817e+06</td>\n",
       "      <td>1.601753e+05</td>\n",
       "    </tr>\n",
       "    <tr>\n",
       "      <th>min</th>\n",
       "      <td>0.000000e+00</td>\n",
       "      <td>0.000000e+00</td>\n",
       "      <td>0.000000e+00</td>\n",
       "      <td>2.000000e+02</td>\n",
       "      <td>9.942600e+01</td>\n",
       "    </tr>\n",
       "    <tr>\n",
       "      <th>25%</th>\n",
       "      <td>9.412500e+03</td>\n",
       "      <td>0.000000e+00</td>\n",
       "      <td>0.000000e+00</td>\n",
       "      <td>1.441250e+04</td>\n",
       "      <td>4.300066e+03</td>\n",
       "    </tr>\n",
       "    <tr>\n",
       "      <th>50%</th>\n",
       "      <td>2.732500e+04</td>\n",
       "      <td>5.400000e+03</td>\n",
       "      <td>4.000000e+01</td>\n",
       "      <td>5.745000e+04</td>\n",
       "      <td>1.118101e+04</td>\n",
       "    </tr>\n",
       "    <tr>\n",
       "      <th>75%</th>\n",
       "      <td>1.233250e+05</td>\n",
       "      <td>3.131250e+04</td>\n",
       "      <td>5.270000e+04</td>\n",
       "      <td>2.521250e+05</td>\n",
       "      <td>3.454340e+04</td>\n",
       "    </tr>\n",
       "    <tr>\n",
       "      <th>max</th>\n",
       "      <td>2.185000e+06</td>\n",
       "      <td>5.889000e+06</td>\n",
       "      <td>5.000000e+06</td>\n",
       "      <td>1.052200e+07</td>\n",
       "      <td>1.448471e+06</td>\n",
       "    </tr>\n",
       "  </tbody>\n",
       "</table>\n",
       "</div>"
      ],
      "text/plain": [
       "         activeDuty  paramilitary      reserves         total       pop2022\n",
       "count  1.680000e+02  1.680000e+02  1.680000e+02  1.680000e+02  1.680000e+02\n",
       "mean   1.199320e+05  1.437658e+05  1.494214e+05  4.131192e+05  4.713149e+04\n",
       "std    2.733041e+05  6.704519e+05  5.244440e+05  1.272817e+06  1.601753e+05\n",
       "min    0.000000e+00  0.000000e+00  0.000000e+00  2.000000e+02  9.942600e+01\n",
       "25%    9.412500e+03  0.000000e+00  0.000000e+00  1.441250e+04  4.300066e+03\n",
       "50%    2.732500e+04  5.400000e+03  4.000000e+01  5.745000e+04  1.118101e+04\n",
       "75%    1.233250e+05  3.131250e+04  5.270000e+04  2.521250e+05  3.454340e+04\n",
       "max    2.185000e+06  5.889000e+06  5.000000e+06  1.052200e+07  1.448471e+06"
      ]
     },
     "execution_count": 96,
     "metadata": {},
     "output_type": "execute_result"
    }
   ],
   "source": [
    "df.describe()"
   ]
  },
  {
   "cell_type": "code",
   "execution_count": 97,
   "id": "186ae86f",
   "metadata": {},
   "outputs": [
    {
     "data": {
      "text/html": [
       "<div>\n",
       "<style scoped>\n",
       "    .dataframe tbody tr th:only-of-type {\n",
       "        vertical-align: middle;\n",
       "    }\n",
       "\n",
       "    .dataframe tbody tr th {\n",
       "        vertical-align: top;\n",
       "    }\n",
       "\n",
       "    .dataframe thead th {\n",
       "        text-align: right;\n",
       "    }\n",
       "</style>\n",
       "<table border=\"1\" class=\"dataframe\">\n",
       "  <thead>\n",
       "    <tr style=\"text-align: right;\">\n",
       "      <th></th>\n",
       "      <th>activeDuty</th>\n",
       "      <th>paramilitary</th>\n",
       "      <th>reserves</th>\n",
       "      <th>total</th>\n",
       "      <th>pop2022</th>\n",
       "    </tr>\n",
       "    <tr>\n",
       "      <th>country</th>\n",
       "      <th></th>\n",
       "      <th></th>\n",
       "      <th></th>\n",
       "      <th></th>\n",
       "      <th></th>\n",
       "    </tr>\n",
       "  </thead>\n",
       "  <tbody>\n",
       "    <tr>\n",
       "      <th>China</th>\n",
       "      <td>2185000</td>\n",
       "      <td>660000</td>\n",
       "      <td>1170000</td>\n",
       "      <td>4015000</td>\n",
       "      <td>1448471.400</td>\n",
       "    </tr>\n",
       "    <tr>\n",
       "      <th>India</th>\n",
       "      <td>1455550</td>\n",
       "      <td>2526950</td>\n",
       "      <td>1155000</td>\n",
       "      <td>5137500</td>\n",
       "      <td>1406631.776</td>\n",
       "    </tr>\n",
       "    <tr>\n",
       "      <th>United States</th>\n",
       "      <td>1388100</td>\n",
       "      <td>0</td>\n",
       "      <td>844950</td>\n",
       "      <td>2233050</td>\n",
       "      <td>334805.269</td>\n",
       "    </tr>\n",
       "    <tr>\n",
       "      <th>North Korea</th>\n",
       "      <td>1280000</td>\n",
       "      <td>5889000</td>\n",
       "      <td>600000</td>\n",
       "      <td>7769000</td>\n",
       "      <td>25990.679</td>\n",
       "    </tr>\n",
       "    <tr>\n",
       "      <th>Russia</th>\n",
       "      <td>1014000</td>\n",
       "      <td>554000</td>\n",
       "      <td>2000000</td>\n",
       "      <td>3568000</td>\n",
       "      <td>145805.947</td>\n",
       "    </tr>\n",
       "    <tr>\n",
       "      <th>...</th>\n",
       "      <td>...</td>\n",
       "      <td>...</td>\n",
       "      <td>...</td>\n",
       "      <td>...</td>\n",
       "      <td>...</td>\n",
       "    </tr>\n",
       "    <tr>\n",
       "      <th>Haiti</th>\n",
       "      <td>150</td>\n",
       "      <td>50</td>\n",
       "      <td>0</td>\n",
       "      <td>200</td>\n",
       "      <td>11680.283</td>\n",
       "    </tr>\n",
       "    <tr>\n",
       "      <th>Iceland</th>\n",
       "      <td>0</td>\n",
       "      <td>250</td>\n",
       "      <td>0</td>\n",
       "      <td>250</td>\n",
       "      <td>345.393</td>\n",
       "    </tr>\n",
       "    <tr>\n",
       "      <th>Mauritius</th>\n",
       "      <td>0</td>\n",
       "      <td>2550</td>\n",
       "      <td>0</td>\n",
       "      <td>2550</td>\n",
       "      <td>1274.727</td>\n",
       "    </tr>\n",
       "    <tr>\n",
       "      <th>Costa Rica</th>\n",
       "      <td>0</td>\n",
       "      <td>9800</td>\n",
       "      <td>0</td>\n",
       "      <td>9800</td>\n",
       "      <td>5182.354</td>\n",
       "    </tr>\n",
       "    <tr>\n",
       "      <th>Panama</th>\n",
       "      <td>0</td>\n",
       "      <td>26000</td>\n",
       "      <td>0</td>\n",
       "      <td>26000</td>\n",
       "      <td>4446.964</td>\n",
       "    </tr>\n",
       "  </tbody>\n",
       "</table>\n",
       "<p>168 rows × 5 columns</p>\n",
       "</div>"
      ],
      "text/plain": [
       "               activeDuty  paramilitary  reserves    total      pop2022\n",
       "country                                                                \n",
       "China             2185000        660000   1170000  4015000  1448471.400\n",
       "India             1455550       2526950   1155000  5137500  1406631.776\n",
       "United States     1388100             0    844950  2233050   334805.269\n",
       "North Korea       1280000       5889000    600000  7769000    25990.679\n",
       "Russia            1014000        554000   2000000  3568000   145805.947\n",
       "...                   ...           ...       ...      ...          ...\n",
       "Haiti                 150            50         0      200    11680.283\n",
       "Iceland                 0           250         0      250      345.393\n",
       "Mauritius               0          2550         0     2550     1274.727\n",
       "Costa Rica              0          9800         0     9800     5182.354\n",
       "Panama                  0         26000         0    26000     4446.964\n",
       "\n",
       "[168 rows x 5 columns]"
      ]
     },
     "execution_count": 97,
     "metadata": {},
     "output_type": "execute_result"
    }
   ],
   "source": [
    "df"
   ]
  },
  {
   "cell_type": "markdown",
   "id": "57c9a308",
   "metadata": {},
   "source": [
    "### Subtract Paramilitary (as they are auxiliary and often not legal)"
   ]
  },
  {
   "cell_type": "code",
   "execution_count": 98,
   "id": "0c258b8a",
   "metadata": {},
   "outputs": [
    {
     "data": {
      "text/html": [
       "<div>\n",
       "<style scoped>\n",
       "    .dataframe tbody tr th:only-of-type {\n",
       "        vertical-align: middle;\n",
       "    }\n",
       "\n",
       "    .dataframe tbody tr th {\n",
       "        vertical-align: top;\n",
       "    }\n",
       "\n",
       "    .dataframe thead th {\n",
       "        text-align: right;\n",
       "    }\n",
       "</style>\n",
       "<table border=\"1\" class=\"dataframe\">\n",
       "  <thead>\n",
       "    <tr style=\"text-align: right;\">\n",
       "      <th></th>\n",
       "      <th>activeDuty</th>\n",
       "      <th>paramilitary</th>\n",
       "      <th>reserves</th>\n",
       "      <th>total</th>\n",
       "      <th>pop2022</th>\n",
       "      <th>total_legal_force</th>\n",
       "    </tr>\n",
       "    <tr>\n",
       "      <th>country</th>\n",
       "      <th></th>\n",
       "      <th></th>\n",
       "      <th></th>\n",
       "      <th></th>\n",
       "      <th></th>\n",
       "      <th></th>\n",
       "    </tr>\n",
       "  </thead>\n",
       "  <tbody>\n",
       "    <tr>\n",
       "      <th>China</th>\n",
       "      <td>2185000</td>\n",
       "      <td>660000</td>\n",
       "      <td>1170000</td>\n",
       "      <td>4015000</td>\n",
       "      <td>1448471.400</td>\n",
       "      <td>3355000</td>\n",
       "    </tr>\n",
       "    <tr>\n",
       "      <th>India</th>\n",
       "      <td>1455550</td>\n",
       "      <td>2526950</td>\n",
       "      <td>1155000</td>\n",
       "      <td>5137500</td>\n",
       "      <td>1406631.776</td>\n",
       "      <td>2610550</td>\n",
       "    </tr>\n",
       "    <tr>\n",
       "      <th>United States</th>\n",
       "      <td>1388100</td>\n",
       "      <td>0</td>\n",
       "      <td>844950</td>\n",
       "      <td>2233050</td>\n",
       "      <td>334805.269</td>\n",
       "      <td>2233050</td>\n",
       "    </tr>\n",
       "    <tr>\n",
       "      <th>North Korea</th>\n",
       "      <td>1280000</td>\n",
       "      <td>5889000</td>\n",
       "      <td>600000</td>\n",
       "      <td>7769000</td>\n",
       "      <td>25990.679</td>\n",
       "      <td>1880000</td>\n",
       "    </tr>\n",
       "    <tr>\n",
       "      <th>Russia</th>\n",
       "      <td>1014000</td>\n",
       "      <td>554000</td>\n",
       "      <td>2000000</td>\n",
       "      <td>3568000</td>\n",
       "      <td>145805.947</td>\n",
       "      <td>3014000</td>\n",
       "    </tr>\n",
       "    <tr>\n",
       "      <th>...</th>\n",
       "      <td>...</td>\n",
       "      <td>...</td>\n",
       "      <td>...</td>\n",
       "      <td>...</td>\n",
       "      <td>...</td>\n",
       "      <td>...</td>\n",
       "    </tr>\n",
       "    <tr>\n",
       "      <th>Haiti</th>\n",
       "      <td>150</td>\n",
       "      <td>50</td>\n",
       "      <td>0</td>\n",
       "      <td>200</td>\n",
       "      <td>11680.283</td>\n",
       "      <td>150</td>\n",
       "    </tr>\n",
       "    <tr>\n",
       "      <th>Iceland</th>\n",
       "      <td>0</td>\n",
       "      <td>250</td>\n",
       "      <td>0</td>\n",
       "      <td>250</td>\n",
       "      <td>345.393</td>\n",
       "      <td>0</td>\n",
       "    </tr>\n",
       "    <tr>\n",
       "      <th>Mauritius</th>\n",
       "      <td>0</td>\n",
       "      <td>2550</td>\n",
       "      <td>0</td>\n",
       "      <td>2550</td>\n",
       "      <td>1274.727</td>\n",
       "      <td>0</td>\n",
       "    </tr>\n",
       "    <tr>\n",
       "      <th>Costa Rica</th>\n",
       "      <td>0</td>\n",
       "      <td>9800</td>\n",
       "      <td>0</td>\n",
       "      <td>9800</td>\n",
       "      <td>5182.354</td>\n",
       "      <td>0</td>\n",
       "    </tr>\n",
       "    <tr>\n",
       "      <th>Panama</th>\n",
       "      <td>0</td>\n",
       "      <td>26000</td>\n",
       "      <td>0</td>\n",
       "      <td>26000</td>\n",
       "      <td>4446.964</td>\n",
       "      <td>0</td>\n",
       "    </tr>\n",
       "  </tbody>\n",
       "</table>\n",
       "<p>168 rows × 6 columns</p>\n",
       "</div>"
      ],
      "text/plain": [
       "               activeDuty  paramilitary  reserves    total      pop2022  \\\n",
       "country                                                                   \n",
       "China             2185000        660000   1170000  4015000  1448471.400   \n",
       "India             1455550       2526950   1155000  5137500  1406631.776   \n",
       "United States     1388100             0    844950  2233050   334805.269   \n",
       "North Korea       1280000       5889000    600000  7769000    25990.679   \n",
       "Russia            1014000        554000   2000000  3568000   145805.947   \n",
       "...                   ...           ...       ...      ...          ...   \n",
       "Haiti                 150            50         0      200    11680.283   \n",
       "Iceland                 0           250         0      250      345.393   \n",
       "Mauritius               0          2550         0     2550     1274.727   \n",
       "Costa Rica              0          9800         0     9800     5182.354   \n",
       "Panama                  0         26000         0    26000     4446.964   \n",
       "\n",
       "               total_legal_force  \n",
       "country                           \n",
       "China                    3355000  \n",
       "India                    2610550  \n",
       "United States            2233050  \n",
       "North Korea              1880000  \n",
       "Russia                   3014000  \n",
       "...                          ...  \n",
       "Haiti                        150  \n",
       "Iceland                        0  \n",
       "Mauritius                      0  \n",
       "Costa Rica                     0  \n",
       "Panama                         0  \n",
       "\n",
       "[168 rows x 6 columns]"
      ]
     },
     "execution_count": 98,
     "metadata": {},
     "output_type": "execute_result"
    }
   ],
   "source": [
    "df[\"total_legal_force\"] = df[\"total\"]-df[\"paramilitary\"]\n",
    "df"
   ]
  },
  {
   "cell_type": "code",
   "execution_count": 99,
   "id": "cf277b0d",
   "metadata": {},
   "outputs": [
    {
     "data": {
      "text/html": [
       "<div>\n",
       "<style scoped>\n",
       "    .dataframe tbody tr th:only-of-type {\n",
       "        vertical-align: middle;\n",
       "    }\n",
       "\n",
       "    .dataframe tbody tr th {\n",
       "        vertical-align: top;\n",
       "    }\n",
       "\n",
       "    .dataframe thead th {\n",
       "        text-align: right;\n",
       "    }\n",
       "</style>\n",
       "<table border=\"1\" class=\"dataframe\">\n",
       "  <thead>\n",
       "    <tr style=\"text-align: right;\">\n",
       "      <th></th>\n",
       "      <th>activeDuty</th>\n",
       "    </tr>\n",
       "    <tr>\n",
       "      <th>country</th>\n",
       "      <th></th>\n",
       "    </tr>\n",
       "  </thead>\n",
       "  <tbody>\n",
       "    <tr>\n",
       "      <th>China</th>\n",
       "      <td>2185000</td>\n",
       "    </tr>\n",
       "    <tr>\n",
       "      <th>India</th>\n",
       "      <td>1455550</td>\n",
       "    </tr>\n",
       "    <tr>\n",
       "      <th>United States</th>\n",
       "      <td>1388100</td>\n",
       "    </tr>\n",
       "  </tbody>\n",
       "</table>\n",
       "</div>"
      ],
      "text/plain": [
       "               activeDuty\n",
       "country                  \n",
       "China             2185000\n",
       "India             1455550\n",
       "United States     1388100"
      ]
     },
     "execution_count": 99,
     "metadata": {},
     "output_type": "execute_result"
    }
   ],
   "source": [
    "df1 = pd.DataFrame(df.loc[\"China\":\"United States\", \"activeDuty\"])\n",
    "df1"
   ]
  },
  {
   "cell_type": "code",
   "execution_count": 100,
   "id": "09bc21ce",
   "metadata": {},
   "outputs": [
    {
     "data": {
      "text/plain": [
       "<AxesSubplot:xlabel='country'>"
      ]
     },
     "execution_count": 100,
     "metadata": {},
     "output_type": "execute_result"
    },
    {
     "data": {
      "text/plain": [
       "<Figure size 1000x500 with 0 Axes>"
      ]
     },
     "metadata": {},
     "output_type": "display_data"
    },
    {
     "data": {
      "image/png": "[encoded data removed]",
      "text/plain": [
       "<Figure size 640x480 with 1 Axes>"
      ]
     },
     "metadata": {},
     "output_type": "display_data"
    }
   ],
   "source": [
    "plt.figure(figsize=(10,5))\n",
    "df1.plot(kind=\"bar\")"
   ]
  },
  {
   "cell_type": "markdown",
   "id": "dabc23d8",
   "metadata": {},
   "source": [
    "### Plot top 10 Largest Military Forces"
   ]
  },
  {
   "cell_type": "code",
   "execution_count": 105,
   "id": "143db08e",
   "metadata": {},
   "outputs": [
    {
     "data": {
      "text/html": [
       "<div>\n",
       "<style scoped>\n",
       "    .dataframe tbody tr th:only-of-type {\n",
       "        vertical-align: middle;\n",
       "    }\n",
       "\n",
       "    .dataframe tbody tr th {\n",
       "        vertical-align: top;\n",
       "    }\n",
       "\n",
       "    .dataframe thead th {\n",
       "        text-align: right;\n",
       "    }\n",
       "</style>\n",
       "<table border=\"1\" class=\"dataframe\">\n",
       "  <thead>\n",
       "    <tr style=\"text-align: right;\">\n",
       "      <th></th>\n",
       "      <th>total_legal_force</th>\n",
       "    </tr>\n",
       "    <tr>\n",
       "      <th>country</th>\n",
       "      <th></th>\n",
       "    </tr>\n",
       "  </thead>\n",
       "  <tbody>\n",
       "    <tr>\n",
       "      <th>Vietnam</th>\n",
       "      <td>5482000</td>\n",
       "    </tr>\n",
       "    <tr>\n",
       "      <th>South Korea</th>\n",
       "      <td>3699000</td>\n",
       "    </tr>\n",
       "    <tr>\n",
       "      <th>China</th>\n",
       "      <td>3355000</td>\n",
       "    </tr>\n",
       "    <tr>\n",
       "      <th>Russia</th>\n",
       "      <td>3014000</td>\n",
       "    </tr>\n",
       "    <tr>\n",
       "      <th>India</th>\n",
       "      <td>2610550</td>\n",
       "    </tr>\n",
       "    <tr>\n",
       "      <th>United States</th>\n",
       "      <td>2233050</td>\n",
       "    </tr>\n",
       "    <tr>\n",
       "      <th>North Korea</th>\n",
       "      <td>1880000</td>\n",
       "    </tr>\n",
       "    <tr>\n",
       "      <th>Taiwan</th>\n",
       "      <td>1820000</td>\n",
       "    </tr>\n",
       "    <tr>\n",
       "      <th>Brazil</th>\n",
       "      <td>1706500</td>\n",
       "    </tr>\n",
       "    <tr>\n",
       "      <th>Pakistan</th>\n",
       "      <td>1204000</td>\n",
       "    </tr>\n",
       "  </tbody>\n",
       "</table>\n",
       "</div>"
      ],
      "text/plain": [
       "               total_legal_force\n",
       "country                         \n",
       "Vietnam                  5482000\n",
       "South Korea              3699000\n",
       "China                    3355000\n",
       "Russia                   3014000\n",
       "India                    2610550\n",
       "United States            2233050\n",
       "North Korea              1880000\n",
       "Taiwan                   1820000\n",
       "Brazil                   1706500\n",
       "Pakistan                 1204000"
      ]
     },
     "execution_count": 105,
     "metadata": {},
     "output_type": "execute_result"
    }
   ],
   "source": [
    "df_total = df[[\"total_legal_force\"]]\n",
    "df_top10 = df_total.sort_values(by=\"total_legal_force\", ascending=False).head(10)\n",
    "df_top10"
   ]
  },
  {
   "cell_type": "code",
   "execution_count": 120,
   "id": "3b8c2749",
   "metadata": {
    "scrolled": true
   },
   "outputs": [
    {
     "data": {
      "text/plain": [
       "<AxesSubplot:xlabel='country'>"
      ]
     },
     "execution_count": 120,
     "metadata": {},
     "output_type": "execute_result"
    },
    {
     "data": {
      "text/plain": [
       "<Figure size 1000x500 with 0 Axes>"
      ]
     },
     "metadata": {},
     "output_type": "display_data"
    },
    {
     "data": {
      "image/png": "[encoded data removed]",
      "text/plain": [
       "<Figure size 640x480 with 1 Axes>"
      ]
     },
     "metadata": {},
     "output_type": "display_data"
    }
   ],
   "source": [
    "plt.figure(figsize=(10,5))\n",
    "df_top10.plot(kind=\"bar\")\n"
   ]
  },
  {
   "cell_type": "code",
   "execution_count": 117,
   "id": "52c33dea",
   "metadata": {},
   "outputs": [],
   "source": [
    "df_top10_2 = df[[\"activeDuty\", \"paramilitary\", \"reserves\"]].sort_values(by=\"activeDuty\", ascending=False).head(10)"
   ]
  },
  {
   "cell_type": "code",
   "execution_count": 118,
   "id": "63b48c71",
   "metadata": {
    "scrolled": false
   },
   "outputs": [
    {
     "data": {
      "text/plain": [
       "<AxesSubplot:xlabel='country'>"
      ]
     },
     "execution_count": 118,
     "metadata": {},
     "output_type": "execute_result"
    },
    {
     "data": {
      "text/plain": [
       "<Figure size 1000x500 with 0 Axes>"
      ]
     },
     "metadata": {},
     "output_type": "display_data"
    },
    {
     "data": {
      "image/png": "[encoded data removed]",
      "text/plain": [
       "<Figure size 640x480 with 1 Axes>"
      ]
     },
     "metadata": {},
     "output_type": "display_data"
    }
   ],
   "source": [
    "plt.figure(figsize=(10,5))\n",
    "df_top10_2.plot(kind=\"bar\", stacked=True)"
   ]
  },
  {
   "cell_type": "markdown",
   "id": "fc2b88d6",
   "metadata": {},
   "source": [
    "# Inisghts"
   ]
  },
  {
   "cell_type": "markdown",
   "id": "e9b54c2e",
   "metadata": {},
   "source": [
    "### Key Insights\n",
    "1. Vietnam, South Korea, and North Korea have large militaries. The majority of their military forces are made up of their paramilitary. Paramilitary forces are organized like an army and performs either civil or military functions. The Central Armed Police Forces (commonly referred to as Paramilitary forces) play an important role in border security as well as internal security. It is unclear whether their large military force is also due to forced conscription, and requires further research\n",
    "\n",
    "2. China and US have rather small forces in comparison, but have weapons programs that compensate"
   ]
  }
 ],
 "metadata": {
  "kernelspec": {
   "display_name": "Python 3 (ipykernel)",
   "language": "python",
   "name": "python3"
  },
  "language_info": {
   "codemirror_mode": {
    "name": "ipython",
    "version": 3
   },
   "file_extension": ".py",
   "mimetype": "text/x-python",
   "name": "python",
   "nbconvert_exporter": "python",
   "pygments_lexer": "ipython3",
   "version": "3.9.13"
  }
 },
 "nbformat": 4,
 "nbformat_minor": 5
}
